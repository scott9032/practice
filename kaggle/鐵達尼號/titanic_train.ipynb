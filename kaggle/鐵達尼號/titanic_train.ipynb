{
  "cells": [
    {
      "metadata": {
        "trusted": true
      },
      "cell_type": "code",
      "source": "import numpy as np\nimport pandas as pd\nfrom sklearn.model_selection import train_test_split #切分訓練和測試\nfrom sklearn.model_selection import StratifiedKFold #交叉驗證\nfrom sklearn.model_selection import cross_val_score #交叉驗證\nfrom sklearn.metrics import accuracy_score #準確率\nfrom sklearn.ensemble import RandomForestClassifier #隨機森林\n\nimport warnings\nwarnings.filterwarnings('ignore')",
      "execution_count": 4,
      "outputs": []
    },
    {
      "metadata": {
        "trusted": true
      },
      "cell_type": "code",
      "source": "df1 = pd.read_csv(\"train.csv\")\ndf2 = pd.read_csv(\"test.csv\")\ndf = pd.concat([df1,df2])",
      "execution_count": 5,
      "outputs": []
    },
    {
      "metadata": {
        "scrolled": true,
        "trusted": true
      },
      "cell_type": "code",
      "source": "df.head()",
      "execution_count": 20,
      "outputs": [
        {
          "execution_count": 20,
          "output_type": "execute_result",
          "data": {
            "text/html": "<div>\n<style scoped>\n    .dataframe tbody tr th:only-of-type {\n        vertical-align: middle;\n    }\n\n    .dataframe tbody tr th {\n        vertical-align: top;\n    }\n\n    .dataframe thead th {\n        text-align: right;\n    }\n</style>\n<table border=\"1\" class=\"dataframe\">\n  <thead>\n    <tr style=\"text-align: right;\">\n      <th></th>\n      <th>Age</th>\n      <th>Fare</th>\n      <th>Family</th>\n      <th>Survived</th>\n      <th>Pclass</th>\n      <th>Sex_female</th>\n      <th>Sex_male</th>\n      <th>Embarked_C</th>\n      <th>Embarked_Q</th>\n      <th>Embarked_S</th>\n    </tr>\n  </thead>\n  <tbody>\n    <tr>\n      <th>0</th>\n      <td>22.0</td>\n      <td>7.2500</td>\n      <td>1</td>\n      <td>0.0</td>\n      <td>3</td>\n      <td>0</td>\n      <td>1</td>\n      <td>0</td>\n      <td>0</td>\n      <td>1</td>\n    </tr>\n    <tr>\n      <th>1</th>\n      <td>38.0</td>\n      <td>71.2833</td>\n      <td>1</td>\n      <td>1.0</td>\n      <td>1</td>\n      <td>1</td>\n      <td>0</td>\n      <td>1</td>\n      <td>0</td>\n      <td>0</td>\n    </tr>\n    <tr>\n      <th>2</th>\n      <td>26.0</td>\n      <td>7.9250</td>\n      <td>0</td>\n      <td>1.0</td>\n      <td>3</td>\n      <td>1</td>\n      <td>0</td>\n      <td>0</td>\n      <td>0</td>\n      <td>1</td>\n    </tr>\n    <tr>\n      <th>3</th>\n      <td>35.0</td>\n      <td>53.1000</td>\n      <td>1</td>\n      <td>1.0</td>\n      <td>1</td>\n      <td>1</td>\n      <td>0</td>\n      <td>0</td>\n      <td>0</td>\n      <td>1</td>\n    </tr>\n    <tr>\n      <th>4</th>\n      <td>35.0</td>\n      <td>8.0500</td>\n      <td>0</td>\n      <td>0.0</td>\n      <td>3</td>\n      <td>0</td>\n      <td>1</td>\n      <td>0</td>\n      <td>0</td>\n      <td>1</td>\n    </tr>\n  </tbody>\n</table>\n</div>",
            "text/plain": "    Age     Fare  Family  Survived  Pclass  Sex_female  Sex_male  Embarked_C  \\\n0  22.0   7.2500       1       0.0       3           0         1           0   \n1  38.0  71.2833       1       1.0       1           1         0           1   \n2  26.0   7.9250       0       1.0       3           1         0           0   \n3  35.0  53.1000       1       1.0       1           1         0           0   \n4  35.0   8.0500       0       0.0       3           0         1           0   \n\n   Embarked_Q  Embarked_S  \n0           0           1  \n1           0           0  \n2           0           1  \n3           0           1  \n4           0           1  "
          },
          "metadata": {}
        }
      ]
    },
    {
      "metadata": {
        "scrolled": false,
        "trusted": true
      },
      "cell_type": "code",
      "source": "df.info()  ## 檢查遺失值",
      "execution_count": 7,
      "outputs": [
        {
          "text": "<class 'pandas.core.frame.DataFrame'>\nInt64Index: 1309 entries, 0 to 417\nData columns (total 12 columns):\nAge            1046 non-null float64\nCabin          295 non-null object\nEmbarked       1307 non-null object\nFare           1308 non-null float64\nName           1309 non-null object\nParch          1309 non-null int64\nPassengerId    1309 non-null int64\nPclass         1309 non-null int64\nSex            1309 non-null object\nSibSp          1309 non-null int64\nSurvived       891 non-null float64\nTicket         1309 non-null object\ndtypes: float64(3), int64(4), object(5)\nmemory usage: 132.9+ KB\n",
          "name": "stdout",
          "output_type": "stream"
        }
      ]
    },
    {
      "metadata": {},
      "cell_type": "markdown",
      "source": "## 資料清理與特徵工程"
    },
    {
      "metadata": {
        "trusted": true
      },
      "cell_type": "code",
      "source": "# 補 Age , Embarked 和 Fare 遺失值 \ndf['Age'] = df['Age'].fillna(df['Age'].mean())\ndf['Embarked'] = df['Embarked'].fillna('S')\ndf['Fare'] = df['Fare'].fillna(df['Fare'].mean())",
      "execution_count": 8,
      "outputs": []
    },
    {
      "metadata": {
        "trusted": true
      },
      "cell_type": "code",
      "source": "df['Family'] = df['Parch'] + df['SibSp'] # 兄弟姊妹 + 父母小孩 = 家人",
      "execution_count": 9,
      "outputs": []
    },
    {
      "metadata": {
        "trusted": true
      },
      "cell_type": "code",
      "source": "df = df[['Age','Embarked','Fare','Family','Sex','Survived','Pclass']]   #Pclass 乘客等級",
      "execution_count": 10,
      "outputs": []
    },
    {
      "metadata": {
        "trusted": true
      },
      "cell_type": "code",
      "source": "df.head()",
      "execution_count": 11,
      "outputs": [
        {
          "execution_count": 11,
          "output_type": "execute_result",
          "data": {
            "text/html": "<div>\n<style scoped>\n    .dataframe tbody tr th:only-of-type {\n        vertical-align: middle;\n    }\n\n    .dataframe tbody tr th {\n        vertical-align: top;\n    }\n\n    .dataframe thead th {\n        text-align: right;\n    }\n</style>\n<table border=\"1\" class=\"dataframe\">\n  <thead>\n    <tr style=\"text-align: right;\">\n      <th></th>\n      <th>Age</th>\n      <th>Embarked</th>\n      <th>Fare</th>\n      <th>Family</th>\n      <th>Sex</th>\n      <th>Survived</th>\n      <th>Pclass</th>\n    </tr>\n  </thead>\n  <tbody>\n    <tr>\n      <th>0</th>\n      <td>22.0</td>\n      <td>S</td>\n      <td>7.2500</td>\n      <td>1</td>\n      <td>male</td>\n      <td>0.0</td>\n      <td>3</td>\n    </tr>\n    <tr>\n      <th>1</th>\n      <td>38.0</td>\n      <td>C</td>\n      <td>71.2833</td>\n      <td>1</td>\n      <td>female</td>\n      <td>1.0</td>\n      <td>1</td>\n    </tr>\n    <tr>\n      <th>2</th>\n      <td>26.0</td>\n      <td>S</td>\n      <td>7.9250</td>\n      <td>0</td>\n      <td>female</td>\n      <td>1.0</td>\n      <td>3</td>\n    </tr>\n    <tr>\n      <th>3</th>\n      <td>35.0</td>\n      <td>S</td>\n      <td>53.1000</td>\n      <td>1</td>\n      <td>female</td>\n      <td>1.0</td>\n      <td>1</td>\n    </tr>\n    <tr>\n      <th>4</th>\n      <td>35.0</td>\n      <td>S</td>\n      <td>8.0500</td>\n      <td>0</td>\n      <td>male</td>\n      <td>0.0</td>\n      <td>3</td>\n    </tr>\n  </tbody>\n</table>\n</div>",
            "text/plain": "    Age Embarked     Fare  Family     Sex  Survived  Pclass\n0  22.0        S   7.2500       1    male       0.0       3\n1  38.0        C  71.2833       1  female       1.0       1\n2  26.0        S   7.9250       0  female       1.0       3\n3  35.0        S  53.1000       1  female       1.0       1\n4  35.0        S   8.0500       0    male       0.0       3"
          },
          "metadata": {}
        }
      ]
    },
    {
      "metadata": {
        "trusted": true
      },
      "cell_type": "code",
      "source": "# 將沒有大小高度關系的類別行資料欄位 作 one hot encoding \ndf = pd.get_dummies(df,columns = ['Sex'])\ndf = pd.get_dummies(df,columns = ['Embarked'])\ndf.head(5)",
      "execution_count": 12,
      "outputs": [
        {
          "execution_count": 12,
          "output_type": "execute_result",
          "data": {
            "text/html": "<div>\n<style scoped>\n    .dataframe tbody tr th:only-of-type {\n        vertical-align: middle;\n    }\n\n    .dataframe tbody tr th {\n        vertical-align: top;\n    }\n\n    .dataframe thead th {\n        text-align: right;\n    }\n</style>\n<table border=\"1\" class=\"dataframe\">\n  <thead>\n    <tr style=\"text-align: right;\">\n      <th></th>\n      <th>Age</th>\n      <th>Fare</th>\n      <th>Family</th>\n      <th>Survived</th>\n      <th>Pclass</th>\n      <th>Sex_female</th>\n      <th>Sex_male</th>\n      <th>Embarked_C</th>\n      <th>Embarked_Q</th>\n      <th>Embarked_S</th>\n    </tr>\n  </thead>\n  <tbody>\n    <tr>\n      <th>0</th>\n      <td>22.0</td>\n      <td>7.2500</td>\n      <td>1</td>\n      <td>0.0</td>\n      <td>3</td>\n      <td>0</td>\n      <td>1</td>\n      <td>0</td>\n      <td>0</td>\n      <td>1</td>\n    </tr>\n    <tr>\n      <th>1</th>\n      <td>38.0</td>\n      <td>71.2833</td>\n      <td>1</td>\n      <td>1.0</td>\n      <td>1</td>\n      <td>1</td>\n      <td>0</td>\n      <td>1</td>\n      <td>0</td>\n      <td>0</td>\n    </tr>\n    <tr>\n      <th>2</th>\n      <td>26.0</td>\n      <td>7.9250</td>\n      <td>0</td>\n      <td>1.0</td>\n      <td>3</td>\n      <td>1</td>\n      <td>0</td>\n      <td>0</td>\n      <td>0</td>\n      <td>1</td>\n    </tr>\n    <tr>\n      <th>3</th>\n      <td>35.0</td>\n      <td>53.1000</td>\n      <td>1</td>\n      <td>1.0</td>\n      <td>1</td>\n      <td>1</td>\n      <td>0</td>\n      <td>0</td>\n      <td>0</td>\n      <td>1</td>\n    </tr>\n    <tr>\n      <th>4</th>\n      <td>35.0</td>\n      <td>8.0500</td>\n      <td>0</td>\n      <td>0.0</td>\n      <td>3</td>\n      <td>0</td>\n      <td>1</td>\n      <td>0</td>\n      <td>0</td>\n      <td>1</td>\n    </tr>\n  </tbody>\n</table>\n</div>",
            "text/plain": "    Age     Fare  Family  Survived  Pclass  Sex_female  Sex_male  Embarked_C  \\\n0  22.0   7.2500       1       0.0       3           0         1           0   \n1  38.0  71.2833       1       1.0       1           1         0           1   \n2  26.0   7.9250       0       1.0       3           1         0           0   \n3  35.0  53.1000       1       1.0       1           1         0           0   \n4  35.0   8.0500       0       0.0       3           0         1           0   \n\n   Embarked_Q  Embarked_S  \n0           0           1  \n1           0           0  \n2           0           1  \n3           0           1  \n4           0           1  "
          },
          "metadata": {}
        }
      ]
    },
    {
      "metadata": {
        "scrolled": true,
        "trusted": true
      },
      "cell_type": "code",
      "source": "# 將沒有預測目標的train資料 拿出來\ndf_train = df.loc[pd.notnull(df.Survived)]\ndf_test = df.loc[pd.isnull(df.Survived)]\ndf_train",
      "execution_count": 13,
      "outputs": [
        {
          "execution_count": 13,
          "output_type": "execute_result",
          "data": {
            "text/html": "<div>\n<style scoped>\n    .dataframe tbody tr th:only-of-type {\n        vertical-align: middle;\n    }\n\n    .dataframe tbody tr th {\n        vertical-align: top;\n    }\n\n    .dataframe thead th {\n        text-align: right;\n    }\n</style>\n<table border=\"1\" class=\"dataframe\">\n  <thead>\n    <tr style=\"text-align: right;\">\n      <th></th>\n      <th>Age</th>\n      <th>Fare</th>\n      <th>Family</th>\n      <th>Survived</th>\n      <th>Pclass</th>\n      <th>Sex_female</th>\n      <th>Sex_male</th>\n      <th>Embarked_C</th>\n      <th>Embarked_Q</th>\n      <th>Embarked_S</th>\n    </tr>\n  </thead>\n  <tbody>\n    <tr>\n      <th>0</th>\n      <td>22.000000</td>\n      <td>7.2500</td>\n      <td>1</td>\n      <td>0.0</td>\n      <td>3</td>\n      <td>0</td>\n      <td>1</td>\n      <td>0</td>\n      <td>0</td>\n      <td>1</td>\n    </tr>\n    <tr>\n      <th>1</th>\n      <td>38.000000</td>\n      <td>71.2833</td>\n      <td>1</td>\n      <td>1.0</td>\n      <td>1</td>\n      <td>1</td>\n      <td>0</td>\n      <td>1</td>\n      <td>0</td>\n      <td>0</td>\n    </tr>\n    <tr>\n      <th>2</th>\n      <td>26.000000</td>\n      <td>7.9250</td>\n      <td>0</td>\n      <td>1.0</td>\n      <td>3</td>\n      <td>1</td>\n      <td>0</td>\n      <td>0</td>\n      <td>0</td>\n      <td>1</td>\n    </tr>\n    <tr>\n      <th>3</th>\n      <td>35.000000</td>\n      <td>53.1000</td>\n      <td>1</td>\n      <td>1.0</td>\n      <td>1</td>\n      <td>1</td>\n      <td>0</td>\n      <td>0</td>\n      <td>0</td>\n      <td>1</td>\n    </tr>\n    <tr>\n      <th>4</th>\n      <td>35.000000</td>\n      <td>8.0500</td>\n      <td>0</td>\n      <td>0.0</td>\n      <td>3</td>\n      <td>0</td>\n      <td>1</td>\n      <td>0</td>\n      <td>0</td>\n      <td>1</td>\n    </tr>\n    <tr>\n      <th>5</th>\n      <td>29.881138</td>\n      <td>8.4583</td>\n      <td>0</td>\n      <td>0.0</td>\n      <td>3</td>\n      <td>0</td>\n      <td>1</td>\n      <td>0</td>\n      <td>1</td>\n      <td>0</td>\n    </tr>\n    <tr>\n      <th>6</th>\n      <td>54.000000</td>\n      <td>51.8625</td>\n      <td>0</td>\n      <td>0.0</td>\n      <td>1</td>\n      <td>0</td>\n      <td>1</td>\n      <td>0</td>\n      <td>0</td>\n      <td>1</td>\n    </tr>\n    <tr>\n      <th>7</th>\n      <td>2.000000</td>\n      <td>21.0750</td>\n      <td>4</td>\n      <td>0.0</td>\n      <td>3</td>\n      <td>0</td>\n      <td>1</td>\n      <td>0</td>\n      <td>0</td>\n      <td>1</td>\n    </tr>\n    <tr>\n      <th>8</th>\n      <td>27.000000</td>\n      <td>11.1333</td>\n      <td>2</td>\n      <td>1.0</td>\n      <td>3</td>\n      <td>1</td>\n      <td>0</td>\n      <td>0</td>\n      <td>0</td>\n      <td>1</td>\n    </tr>\n    <tr>\n      <th>9</th>\n      <td>14.000000</td>\n      <td>30.0708</td>\n      <td>1</td>\n      <td>1.0</td>\n      <td>2</td>\n      <td>1</td>\n      <td>0</td>\n      <td>1</td>\n      <td>0</td>\n      <td>0</td>\n    </tr>\n    <tr>\n      <th>10</th>\n      <td>4.000000</td>\n      <td>16.7000</td>\n      <td>2</td>\n      <td>1.0</td>\n      <td>3</td>\n      <td>1</td>\n      <td>0</td>\n      <td>0</td>\n      <td>0</td>\n      <td>1</td>\n    </tr>\n    <tr>\n      <th>11</th>\n      <td>58.000000</td>\n      <td>26.5500</td>\n      <td>0</td>\n      <td>1.0</td>\n      <td>1</td>\n      <td>1</td>\n      <td>0</td>\n      <td>0</td>\n      <td>0</td>\n      <td>1</td>\n    </tr>\n    <tr>\n      <th>12</th>\n      <td>20.000000</td>\n      <td>8.0500</td>\n      <td>0</td>\n      <td>0.0</td>\n      <td>3</td>\n      <td>0</td>\n      <td>1</td>\n      <td>0</td>\n      <td>0</td>\n      <td>1</td>\n    </tr>\n    <tr>\n      <th>13</th>\n      <td>39.000000</td>\n      <td>31.2750</td>\n      <td>6</td>\n      <td>0.0</td>\n      <td>3</td>\n      <td>0</td>\n      <td>1</td>\n      <td>0</td>\n      <td>0</td>\n      <td>1</td>\n    </tr>\n    <tr>\n      <th>14</th>\n      <td>14.000000</td>\n      <td>7.8542</td>\n      <td>0</td>\n      <td>0.0</td>\n      <td>3</td>\n      <td>1</td>\n      <td>0</td>\n      <td>0</td>\n      <td>0</td>\n      <td>1</td>\n    </tr>\n    <tr>\n      <th>15</th>\n      <td>55.000000</td>\n      <td>16.0000</td>\n      <td>0</td>\n      <td>1.0</td>\n      <td>2</td>\n      <td>1</td>\n      <td>0</td>\n      <td>0</td>\n      <td>0</td>\n      <td>1</td>\n    </tr>\n    <tr>\n      <th>16</th>\n      <td>2.000000</td>\n      <td>29.1250</td>\n      <td>5</td>\n      <td>0.0</td>\n      <td>3</td>\n      <td>0</td>\n      <td>1</td>\n      <td>0</td>\n      <td>1</td>\n      <td>0</td>\n    </tr>\n    <tr>\n      <th>17</th>\n      <td>29.881138</td>\n      <td>13.0000</td>\n      <td>0</td>\n      <td>1.0</td>\n      <td>2</td>\n      <td>0</td>\n      <td>1</td>\n      <td>0</td>\n      <td>0</td>\n      <td>1</td>\n    </tr>\n    <tr>\n      <th>18</th>\n      <td>31.000000</td>\n      <td>18.0000</td>\n      <td>1</td>\n      <td>0.0</td>\n      <td>3</td>\n      <td>1</td>\n      <td>0</td>\n      <td>0</td>\n      <td>0</td>\n      <td>1</td>\n    </tr>\n    <tr>\n      <th>19</th>\n      <td>29.881138</td>\n      <td>7.2250</td>\n      <td>0</td>\n      <td>1.0</td>\n      <td>3</td>\n      <td>1</td>\n      <td>0</td>\n      <td>1</td>\n      <td>0</td>\n      <td>0</td>\n    </tr>\n    <tr>\n      <th>20</th>\n      <td>35.000000</td>\n      <td>26.0000</td>\n      <td>0</td>\n      <td>0.0</td>\n      <td>2</td>\n      <td>0</td>\n      <td>1</td>\n      <td>0</td>\n      <td>0</td>\n      <td>1</td>\n    </tr>\n    <tr>\n      <th>21</th>\n      <td>34.000000</td>\n      <td>13.0000</td>\n      <td>0</td>\n      <td>1.0</td>\n      <td>2</td>\n      <td>0</td>\n      <td>1</td>\n      <td>0</td>\n      <td>0</td>\n      <td>1</td>\n    </tr>\n    <tr>\n      <th>22</th>\n      <td>15.000000</td>\n      <td>8.0292</td>\n      <td>0</td>\n      <td>1.0</td>\n      <td>3</td>\n      <td>1</td>\n      <td>0</td>\n      <td>0</td>\n      <td>1</td>\n      <td>0</td>\n    </tr>\n    <tr>\n      <th>23</th>\n      <td>28.000000</td>\n      <td>35.5000</td>\n      <td>0</td>\n      <td>1.0</td>\n      <td>1</td>\n      <td>0</td>\n      <td>1</td>\n      <td>0</td>\n      <td>0</td>\n      <td>1</td>\n    </tr>\n    <tr>\n      <th>24</th>\n      <td>8.000000</td>\n      <td>21.0750</td>\n      <td>4</td>\n      <td>0.0</td>\n      <td>3</td>\n      <td>1</td>\n      <td>0</td>\n      <td>0</td>\n      <td>0</td>\n      <td>1</td>\n    </tr>\n    <tr>\n      <th>25</th>\n      <td>38.000000</td>\n      <td>31.3875</td>\n      <td>6</td>\n      <td>1.0</td>\n      <td>3</td>\n      <td>1</td>\n      <td>0</td>\n      <td>0</td>\n      <td>0</td>\n      <td>1</td>\n    </tr>\n    <tr>\n      <th>26</th>\n      <td>29.881138</td>\n      <td>7.2250</td>\n      <td>0</td>\n      <td>0.0</td>\n      <td>3</td>\n      <td>0</td>\n      <td>1</td>\n      <td>1</td>\n      <td>0</td>\n      <td>0</td>\n    </tr>\n    <tr>\n      <th>27</th>\n      <td>19.000000</td>\n      <td>263.0000</td>\n      <td>5</td>\n      <td>0.0</td>\n      <td>1</td>\n      <td>0</td>\n      <td>1</td>\n      <td>0</td>\n      <td>0</td>\n      <td>1</td>\n    </tr>\n    <tr>\n      <th>28</th>\n      <td>29.881138</td>\n      <td>7.8792</td>\n      <td>0</td>\n      <td>1.0</td>\n      <td>3</td>\n      <td>1</td>\n      <td>0</td>\n      <td>0</td>\n      <td>1</td>\n      <td>0</td>\n    </tr>\n    <tr>\n      <th>29</th>\n      <td>29.881138</td>\n      <td>7.8958</td>\n      <td>0</td>\n      <td>0.0</td>\n      <td>3</td>\n      <td>0</td>\n      <td>1</td>\n      <td>0</td>\n      <td>0</td>\n      <td>1</td>\n    </tr>\n    <tr>\n      <th>...</th>\n      <td>...</td>\n      <td>...</td>\n      <td>...</td>\n      <td>...</td>\n      <td>...</td>\n      <td>...</td>\n      <td>...</td>\n      <td>...</td>\n      <td>...</td>\n      <td>...</td>\n    </tr>\n    <tr>\n      <th>861</th>\n      <td>21.000000</td>\n      <td>11.5000</td>\n      <td>1</td>\n      <td>0.0</td>\n      <td>2</td>\n      <td>0</td>\n      <td>1</td>\n      <td>0</td>\n      <td>0</td>\n      <td>1</td>\n    </tr>\n    <tr>\n      <th>862</th>\n      <td>48.000000</td>\n      <td>25.9292</td>\n      <td>0</td>\n      <td>1.0</td>\n      <td>1</td>\n      <td>1</td>\n      <td>0</td>\n      <td>0</td>\n      <td>0</td>\n      <td>1</td>\n    </tr>\n    <tr>\n      <th>863</th>\n      <td>29.881138</td>\n      <td>69.5500</td>\n      <td>10</td>\n      <td>0.0</td>\n      <td>3</td>\n      <td>1</td>\n      <td>0</td>\n      <td>0</td>\n      <td>0</td>\n      <td>1</td>\n    </tr>\n    <tr>\n      <th>864</th>\n      <td>24.000000</td>\n      <td>13.0000</td>\n      <td>0</td>\n      <td>0.0</td>\n      <td>2</td>\n      <td>0</td>\n      <td>1</td>\n      <td>0</td>\n      <td>0</td>\n      <td>1</td>\n    </tr>\n    <tr>\n      <th>865</th>\n      <td>42.000000</td>\n      <td>13.0000</td>\n      <td>0</td>\n      <td>1.0</td>\n      <td>2</td>\n      <td>1</td>\n      <td>0</td>\n      <td>0</td>\n      <td>0</td>\n      <td>1</td>\n    </tr>\n    <tr>\n      <th>866</th>\n      <td>27.000000</td>\n      <td>13.8583</td>\n      <td>1</td>\n      <td>1.0</td>\n      <td>2</td>\n      <td>1</td>\n      <td>0</td>\n      <td>1</td>\n      <td>0</td>\n      <td>0</td>\n    </tr>\n    <tr>\n      <th>867</th>\n      <td>31.000000</td>\n      <td>50.4958</td>\n      <td>0</td>\n      <td>0.0</td>\n      <td>1</td>\n      <td>0</td>\n      <td>1</td>\n      <td>0</td>\n      <td>0</td>\n      <td>1</td>\n    </tr>\n    <tr>\n      <th>868</th>\n      <td>29.881138</td>\n      <td>9.5000</td>\n      <td>0</td>\n      <td>0.0</td>\n      <td>3</td>\n      <td>0</td>\n      <td>1</td>\n      <td>0</td>\n      <td>0</td>\n      <td>1</td>\n    </tr>\n    <tr>\n      <th>869</th>\n      <td>4.000000</td>\n      <td>11.1333</td>\n      <td>2</td>\n      <td>1.0</td>\n      <td>3</td>\n      <td>0</td>\n      <td>1</td>\n      <td>0</td>\n      <td>0</td>\n      <td>1</td>\n    </tr>\n    <tr>\n      <th>870</th>\n      <td>26.000000</td>\n      <td>7.8958</td>\n      <td>0</td>\n      <td>0.0</td>\n      <td>3</td>\n      <td>0</td>\n      <td>1</td>\n      <td>0</td>\n      <td>0</td>\n      <td>1</td>\n    </tr>\n    <tr>\n      <th>871</th>\n      <td>47.000000</td>\n      <td>52.5542</td>\n      <td>2</td>\n      <td>1.0</td>\n      <td>1</td>\n      <td>1</td>\n      <td>0</td>\n      <td>0</td>\n      <td>0</td>\n      <td>1</td>\n    </tr>\n    <tr>\n      <th>872</th>\n      <td>33.000000</td>\n      <td>5.0000</td>\n      <td>0</td>\n      <td>0.0</td>\n      <td>1</td>\n      <td>0</td>\n      <td>1</td>\n      <td>0</td>\n      <td>0</td>\n      <td>1</td>\n    </tr>\n    <tr>\n      <th>873</th>\n      <td>47.000000</td>\n      <td>9.0000</td>\n      <td>0</td>\n      <td>0.0</td>\n      <td>3</td>\n      <td>0</td>\n      <td>1</td>\n      <td>0</td>\n      <td>0</td>\n      <td>1</td>\n    </tr>\n    <tr>\n      <th>874</th>\n      <td>28.000000</td>\n      <td>24.0000</td>\n      <td>1</td>\n      <td>1.0</td>\n      <td>2</td>\n      <td>1</td>\n      <td>0</td>\n      <td>1</td>\n      <td>0</td>\n      <td>0</td>\n    </tr>\n    <tr>\n      <th>875</th>\n      <td>15.000000</td>\n      <td>7.2250</td>\n      <td>0</td>\n      <td>1.0</td>\n      <td>3</td>\n      <td>1</td>\n      <td>0</td>\n      <td>1</td>\n      <td>0</td>\n      <td>0</td>\n    </tr>\n    <tr>\n      <th>876</th>\n      <td>20.000000</td>\n      <td>9.8458</td>\n      <td>0</td>\n      <td>0.0</td>\n      <td>3</td>\n      <td>0</td>\n      <td>1</td>\n      <td>0</td>\n      <td>0</td>\n      <td>1</td>\n    </tr>\n    <tr>\n      <th>877</th>\n      <td>19.000000</td>\n      <td>7.8958</td>\n      <td>0</td>\n      <td>0.0</td>\n      <td>3</td>\n      <td>0</td>\n      <td>1</td>\n      <td>0</td>\n      <td>0</td>\n      <td>1</td>\n    </tr>\n    <tr>\n      <th>878</th>\n      <td>29.881138</td>\n      <td>7.8958</td>\n      <td>0</td>\n      <td>0.0</td>\n      <td>3</td>\n      <td>0</td>\n      <td>1</td>\n      <td>0</td>\n      <td>0</td>\n      <td>1</td>\n    </tr>\n    <tr>\n      <th>879</th>\n      <td>56.000000</td>\n      <td>83.1583</td>\n      <td>1</td>\n      <td>1.0</td>\n      <td>1</td>\n      <td>1</td>\n      <td>0</td>\n      <td>1</td>\n      <td>0</td>\n      <td>0</td>\n    </tr>\n    <tr>\n      <th>880</th>\n      <td>25.000000</td>\n      <td>26.0000</td>\n      <td>1</td>\n      <td>1.0</td>\n      <td>2</td>\n      <td>1</td>\n      <td>0</td>\n      <td>0</td>\n      <td>0</td>\n      <td>1</td>\n    </tr>\n    <tr>\n      <th>881</th>\n      <td>33.000000</td>\n      <td>7.8958</td>\n      <td>0</td>\n      <td>0.0</td>\n      <td>3</td>\n      <td>0</td>\n      <td>1</td>\n      <td>0</td>\n      <td>0</td>\n      <td>1</td>\n    </tr>\n    <tr>\n      <th>882</th>\n      <td>22.000000</td>\n      <td>10.5167</td>\n      <td>0</td>\n      <td>0.0</td>\n      <td>3</td>\n      <td>1</td>\n      <td>0</td>\n      <td>0</td>\n      <td>0</td>\n      <td>1</td>\n    </tr>\n    <tr>\n      <th>883</th>\n      <td>28.000000</td>\n      <td>10.5000</td>\n      <td>0</td>\n      <td>0.0</td>\n      <td>2</td>\n      <td>0</td>\n      <td>1</td>\n      <td>0</td>\n      <td>0</td>\n      <td>1</td>\n    </tr>\n    <tr>\n      <th>884</th>\n      <td>25.000000</td>\n      <td>7.0500</td>\n      <td>0</td>\n      <td>0.0</td>\n      <td>3</td>\n      <td>0</td>\n      <td>1</td>\n      <td>0</td>\n      <td>0</td>\n      <td>1</td>\n    </tr>\n    <tr>\n      <th>885</th>\n      <td>39.000000</td>\n      <td>29.1250</td>\n      <td>5</td>\n      <td>0.0</td>\n      <td>3</td>\n      <td>1</td>\n      <td>0</td>\n      <td>0</td>\n      <td>1</td>\n      <td>0</td>\n    </tr>\n    <tr>\n      <th>886</th>\n      <td>27.000000</td>\n      <td>13.0000</td>\n      <td>0</td>\n      <td>0.0</td>\n      <td>2</td>\n      <td>0</td>\n      <td>1</td>\n      <td>0</td>\n      <td>0</td>\n      <td>1</td>\n    </tr>\n    <tr>\n      <th>887</th>\n      <td>19.000000</td>\n      <td>30.0000</td>\n      <td>0</td>\n      <td>1.0</td>\n      <td>1</td>\n      <td>1</td>\n      <td>0</td>\n      <td>0</td>\n      <td>0</td>\n      <td>1</td>\n    </tr>\n    <tr>\n      <th>888</th>\n      <td>29.881138</td>\n      <td>23.4500</td>\n      <td>3</td>\n      <td>0.0</td>\n      <td>3</td>\n      <td>1</td>\n      <td>0</td>\n      <td>0</td>\n      <td>0</td>\n      <td>1</td>\n    </tr>\n    <tr>\n      <th>889</th>\n      <td>26.000000</td>\n      <td>30.0000</td>\n      <td>0</td>\n      <td>1.0</td>\n      <td>1</td>\n      <td>0</td>\n      <td>1</td>\n      <td>1</td>\n      <td>0</td>\n      <td>0</td>\n    </tr>\n    <tr>\n      <th>890</th>\n      <td>32.000000</td>\n      <td>7.7500</td>\n      <td>0</td>\n      <td>0.0</td>\n      <td>3</td>\n      <td>0</td>\n      <td>1</td>\n      <td>0</td>\n      <td>1</td>\n      <td>0</td>\n    </tr>\n  </tbody>\n</table>\n<p>891 rows × 10 columns</p>\n</div>",
            "text/plain": "           Age      Fare  Family  Survived  Pclass  Sex_female  Sex_male  \\\n0    22.000000    7.2500       1       0.0       3           0         1   \n1    38.000000   71.2833       1       1.0       1           1         0   \n2    26.000000    7.9250       0       1.0       3           1         0   \n3    35.000000   53.1000       1       1.0       1           1         0   \n4    35.000000    8.0500       0       0.0       3           0         1   \n5    29.881138    8.4583       0       0.0       3           0         1   \n6    54.000000   51.8625       0       0.0       1           0         1   \n7     2.000000   21.0750       4       0.0       3           0         1   \n8    27.000000   11.1333       2       1.0       3           1         0   \n9    14.000000   30.0708       1       1.0       2           1         0   \n10    4.000000   16.7000       2       1.0       3           1         0   \n11   58.000000   26.5500       0       1.0       1           1         0   \n12   20.000000    8.0500       0       0.0       3           0         1   \n13   39.000000   31.2750       6       0.0       3           0         1   \n14   14.000000    7.8542       0       0.0       3           1         0   \n15   55.000000   16.0000       0       1.0       2           1         0   \n16    2.000000   29.1250       5       0.0       3           0         1   \n17   29.881138   13.0000       0       1.0       2           0         1   \n18   31.000000   18.0000       1       0.0       3           1         0   \n19   29.881138    7.2250       0       1.0       3           1         0   \n20   35.000000   26.0000       0       0.0       2           0         1   \n21   34.000000   13.0000       0       1.0       2           0         1   \n22   15.000000    8.0292       0       1.0       3           1         0   \n23   28.000000   35.5000       0       1.0       1           0         1   \n24    8.000000   21.0750       4       0.0       3           1         0   \n25   38.000000   31.3875       6       1.0       3           1         0   \n26   29.881138    7.2250       0       0.0       3           0         1   \n27   19.000000  263.0000       5       0.0       1           0         1   \n28   29.881138    7.8792       0       1.0       3           1         0   \n29   29.881138    7.8958       0       0.0       3           0         1   \n..         ...       ...     ...       ...     ...         ...       ...   \n861  21.000000   11.5000       1       0.0       2           0         1   \n862  48.000000   25.9292       0       1.0       1           1         0   \n863  29.881138   69.5500      10       0.0       3           1         0   \n864  24.000000   13.0000       0       0.0       2           0         1   \n865  42.000000   13.0000       0       1.0       2           1         0   \n866  27.000000   13.8583       1       1.0       2           1         0   \n867  31.000000   50.4958       0       0.0       1           0         1   \n868  29.881138    9.5000       0       0.0       3           0         1   \n869   4.000000   11.1333       2       1.0       3           0         1   \n870  26.000000    7.8958       0       0.0       3           0         1   \n871  47.000000   52.5542       2       1.0       1           1         0   \n872  33.000000    5.0000       0       0.0       1           0         1   \n873  47.000000    9.0000       0       0.0       3           0         1   \n874  28.000000   24.0000       1       1.0       2           1         0   \n875  15.000000    7.2250       0       1.0       3           1         0   \n876  20.000000    9.8458       0       0.0       3           0         1   \n877  19.000000    7.8958       0       0.0       3           0         1   \n878  29.881138    7.8958       0       0.0       3           0         1   \n879  56.000000   83.1583       1       1.0       1           1         0   \n880  25.000000   26.0000       1       1.0       2           1         0   \n881  33.000000    7.8958       0       0.0       3           0         1   \n882  22.000000   10.5167       0       0.0       3           1         0   \n883  28.000000   10.5000       0       0.0       2           0         1   \n884  25.000000    7.0500       0       0.0       3           0         1   \n885  39.000000   29.1250       5       0.0       3           1         0   \n886  27.000000   13.0000       0       0.0       2           0         1   \n887  19.000000   30.0000       0       1.0       1           1         0   \n888  29.881138   23.4500       3       0.0       3           1         0   \n889  26.000000   30.0000       0       1.0       1           0         1   \n890  32.000000    7.7500       0       0.0       3           0         1   \n\n     Embarked_C  Embarked_Q  Embarked_S  \n0             0           0           1  \n1             1           0           0  \n2             0           0           1  \n3             0           0           1  \n4             0           0           1  \n5             0           1           0  \n6             0           0           1  \n7             0           0           1  \n8             0           0           1  \n9             1           0           0  \n10            0           0           1  \n11            0           0           1  \n12            0           0           1  \n13            0           0           1  \n14            0           0           1  \n15            0           0           1  \n16            0           1           0  \n17            0           0           1  \n18            0           0           1  \n19            1           0           0  \n20            0           0           1  \n21            0           0           1  \n22            0           1           0  \n23            0           0           1  \n24            0           0           1  \n25            0           0           1  \n26            1           0           0  \n27            0           0           1  \n28            0           1           0  \n29            0           0           1  \n..          ...         ...         ...  \n861           0           0           1  \n862           0           0           1  \n863           0           0           1  \n864           0           0           1  \n865           0           0           1  \n866           1           0           0  \n867           0           0           1  \n868           0           0           1  \n869           0           0           1  \n870           0           0           1  \n871           0           0           1  \n872           0           0           1  \n873           0           0           1  \n874           1           0           0  \n875           1           0           0  \n876           0           0           1  \n877           0           0           1  \n878           0           0           1  \n879           1           0           0  \n880           0           0           1  \n881           0           0           1  \n882           0           0           1  \n883           0           0           1  \n884           0           0           1  \n885           0           1           0  \n886           0           0           1  \n887           0           0           1  \n888           0           0           1  \n889           1           0           0  \n890           0           1           0  \n\n[891 rows x 10 columns]"
          },
          "metadata": {}
        }
      ]
    },
    {
      "metadata": {
        "trusted": true
      },
      "cell_type": "code",
      "source": "# 選定特徵及目標\nx_test = df_test.drop(['Survived'],axis=1)\nx = df_train.drop(['Survived'],axis=1)\ny = df_train['Survived']",
      "execution_count": 14,
      "outputs": []
    },
    {
      "metadata": {
        "trusted": true
      },
      "cell_type": "code",
      "source": "# 建立訓練與驗證資料\nx_train,x_val,y_train,y_val = train_test_split(x,y,test_size=0.2,random_state=33)",
      "execution_count": 15,
      "outputs": []
    },
    {
      "metadata": {},
      "cell_type": "markdown",
      "source": "## 訓練模型"
    },
    {
      "metadata": {
        "trusted": true
      },
      "cell_type": "code",
      "source": "#建立模型 隨機森林 參數調整\nrandom_forest = RandomForestClassifier(n_estimators = 1000,    #調整訓練速度\n                                       max_depth=None,         #控制樹的深度\n                                       max_leaf_nodes=None,    #葉子數限制\n                                       min_samples_leaf=1,     #葉子上最小樣本數\n                                       min_samples_split=2,    #節點上的最小樣本數\n                                      )\nrandom_forest.fit(x_train,y_train)",
      "execution_count": 17,
      "outputs": [
        {
          "execution_count": 17,
          "output_type": "execute_result",
          "data": {
            "text/plain": "RandomForestClassifier(bootstrap=True, class_weight=None, criterion='gini',\n            max_depth=None, max_features='auto', max_leaf_nodes=None,\n            min_impurity_decrease=0.0, min_impurity_split=None,\n            min_samples_leaf=1, min_samples_split=2,\n            min_weight_fraction_leaf=0.0, n_estimators=1000, n_jobs=1,\n            oob_score=False, random_state=None, verbose=0,\n            warm_start=False)"
          },
          "metadata": {}
        }
      ]
    },
    {
      "metadata": {
        "trusted": true
      },
      "cell_type": "code",
      "source": "# 利用訓練資料進行交叉驗證\nkfold = StratifiedKFold(n_splits=10,random_state=0)\ncross_val_score(random_forest,x_train,y_train,scoring = \"accuracy\",cv=kfold).mean()",
      "execution_count": 18,
      "outputs": [
        {
          "execution_count": 18,
          "output_type": "execute_result",
          "data": {
            "text/plain": "0.797593896713615"
          },
          "metadata": {}
        }
      ]
    },
    {
      "metadata": {
        "trusted": true
      },
      "cell_type": "code",
      "source": "# 利用驗證資料驗證模型準確率\nall_pred_label = random_forest.predict(x_val)\naccuracy_score(y_val,all_pred_label)",
      "execution_count": 19,
      "outputs": [
        {
          "execution_count": 19,
          "output_type": "execute_result",
          "data": {
            "text/plain": "0.8100558659217877"
          },
          "metadata": {}
        }
      ]
    },
    {
      "metadata": {},
      "cell_type": "markdown",
      "source": "## 預測"
    },
    {
      "metadata": {
        "trusted": true
      },
      "cell_type": "code",
      "source": "# 預測測試資料\ny_test = random_forest.predict(x_test)",
      "execution_count": 21,
      "outputs": []
    },
    {
      "metadata": {
        "trusted": true
      },
      "cell_type": "code",
      "source": "# 將預測結果整理 成 kaggle格式\n\ndf2['Survived'] = list(y_test)\ndf3 = df2[['PassengerId','Survived']]\ndf3=df3.astype('int64')\ndf3.head()",
      "execution_count": 47,
      "outputs": [
        {
          "execution_count": 47,
          "output_type": "execute_result",
          "data": {
            "text/html": "<div>\n<style scoped>\n    .dataframe tbody tr th:only-of-type {\n        vertical-align: middle;\n    }\n\n    .dataframe tbody tr th {\n        vertical-align: top;\n    }\n\n    .dataframe thead th {\n        text-align: right;\n    }\n</style>\n<table border=\"1\" class=\"dataframe\">\n  <thead>\n    <tr style=\"text-align: right;\">\n      <th></th>\n      <th>PassengerId</th>\n      <th>Survived</th>\n    </tr>\n  </thead>\n  <tbody>\n    <tr>\n      <th>0</th>\n      <td>892</td>\n      <td>0</td>\n    </tr>\n    <tr>\n      <th>1</th>\n      <td>893</td>\n      <td>0</td>\n    </tr>\n    <tr>\n      <th>2</th>\n      <td>894</td>\n      <td>0</td>\n    </tr>\n    <tr>\n      <th>3</th>\n      <td>895</td>\n      <td>1</td>\n    </tr>\n    <tr>\n      <th>4</th>\n      <td>896</td>\n      <td>0</td>\n    </tr>\n  </tbody>\n</table>\n</div>",
            "text/plain": "   PassengerId  Survived\n0          892         0\n1          893         0\n2          894         0\n3          895         1\n4          896         0"
          },
          "metadata": {}
        }
      ]
    },
    {
      "metadata": {
        "trusted": true
      },
      "cell_type": "code",
      "source": "df3.to_csv('鐵達尼號生存預測.csv',index=False)\n",
      "execution_count": 48,
      "outputs": []
    }
  ],
  "metadata": {
    "kernelspec": {
      "name": "python36",
      "display_name": "Python 3.6",
      "language": "python"
    },
    "language_info": {
      "mimetype": "text/x-python",
      "nbconvert_exporter": "python",
      "name": "python",
      "pygments_lexer": "ipython3",
      "version": "3.6.6",
      "file_extension": ".py",
      "codemirror_mode": {
        "version": 3,
        "name": "ipython"
      }
    }
  },
  "nbformat": 4,
  "nbformat_minor": 2
}